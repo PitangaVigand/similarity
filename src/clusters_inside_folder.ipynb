{
 "cells": [
  {
   "cell_type": "code",
   "execution_count": 1,
   "metadata": {},
   "outputs": [],
   "source": [
    "import pandas as pd\n",
    "from ivpy.cluster import cluster\n",
    "import shutil\n",
    "from PIL import Image\n",
    "import os\n",
    "import numpy as np\n",
    "import pickle\n",
    "import sklearn\n",
    "from ivpy.cluster import cluster\n",
    "\n",
    "from annoy import AnnoyIndex\n",
    "\n",
    "\n",
    "metadata = pd.read_csv(\"/mnt/e/Tasks/similarity/files/metadata.csv\")\n",
    "feature_matrix = pd.read_pickle(\"/mnt/e/Tasks/similarity/files/situated_views_features.pickle\")\n",
    "df = pd.read_pickle(\"/mnt/e/Tasks/similarity/files/situated_views_df.pickle\")"
   ]
  },
  {
   "cell_type": "markdown",
   "metadata": {},
   "source": [
    "#inside bigger folder"
   ]
  },
  {
   "cell_type": "code",
   "execution_count": null,
   "metadata": {},
   "outputs": [],
   "source": [
    "method='K-means'\n",
    "DIR = \"/mnt/e/Tasks/Vistas Situadas - Imagens/classification_gray\"\n",
    "folders = os.listdir(DIR)\n",
    "\n",
    "for folder in folders:\n",
    "    folder_list = os.listdir(DIR+folder)    \n",
    "    index_list = [df[\"id\"].to_list().index(item.split(\".\")[0])for item in folder_list if item.split(\".\")[0] in df[\"id\"].to_list()]\n",
    "\n",
    "    ks = [12,35,5,10]\n",
    "    df['cluster_{0}'.format(folder)] = cluster(feature_matrix.iloc[index_list],k=ks[folders.index(folder)])\n",
    "    df2 = df.dropna(subset=['cluster_{0}'.format(folder)])\n",
    "\n",
    "    for i, item in df2.iterrows(): \n",
    "        path_to = \"{0}/{1}/{2}/{3}\".format(DIR,folder,method,item['cluster_{0}'.format(folder)])\n",
    "        if item['cluster_{0}'.format(folder)] != np.nan:\n",
    "            if not os.path.exists(path_to):\n",
    "                os.makedirs(path_to)\n",
    "            shutil.copy(item[\"filename\"],path_to+\"/\"+item[\"id\"]+\".jpg\") "
   ]
  },
  {
   "cell_type": "markdown",
   "metadata": {},
   "source": [
    "#Cluster in clustered folders"
   ]
  },
  {
   "cell_type": "code",
   "execution_count": null,
   "metadata": {},
   "outputs": [],
   "source": [
    "def find_nearest_cluster(X, set_img, metadata_df):\n",
    "    t = AnnoyIndex(feature_matrix.shape[1])\n",
    "    counter = -1\n",
    "    for j in X.index:\n",
    "        counter+=1\n",
    "        t.add_item(counter,list(X.loc[j]))\n",
    "\n",
    "    idmap = dict(zip(X.index,list(range(len(X)))))\n",
    "    idmapReverse = dict(zip(list(range(len(X))),X.index))\n",
    "\n",
    "    t.build(10) # 10 trees\n",
    "    items = {}     \n",
    "    index = set_img.index[0]    \n",
    "    nn, distances = t.get_nns_by_item(idmap[index],200,include_distances=True)\n",
    "    nnsAnnoy = dict(zip(nn, distances)) \n",
    "    selected = {df.iloc[idmapReverse[item]].id : '{:.3f}'.format(round(nnsAnnoy[item], 3))   for item in nnsAnnoy}                \n",
    "\n",
    "    return selected"
   ]
  },
  {
   "cell_type": "code",
   "execution_count": null,
   "metadata": {},
   "outputs": [],
   "source": [
    "clusters_affinity50 = \"/mnt/e/Tasks/Vistas Situadas - Imagens/classification/affinity_-50\"\n",
    "clusters_affinity100 = \"/mnt/e/Tasks/Vistas Situadas - Imagens/classification_gray/affinity_-100\"\n",
    "def order_cluster_nearest(clusters, X, df): \n",
    "    for folder in os.listdir(clusters):\n",
    "        folder_list = [x.split(\".\")[0] for x in os.listdir(clusters+\"/\"+folder)]\n",
    "        df_folder = df.loc[df[\"id\"].isin(folder_list)]\n",
    "        X_folder = X.iloc[df_folder.index]        \n",
    "        items = find_nearest_cluster(X_folder, df_folder,df)\n",
    "       \n",
    "\n",
    "        for key in items:\n",
    "            path_to = \"{0}_{1}/{2}\".format(clusters,\"ordered-ne\",folder)            \n",
    "            if not os.path.exists(path_to):\n",
    "                os.makedirs(path_to)\n",
    "            try:\n",
    "                shutil.copy(os.path.join(clusters,folder,key+\".jpg\"),\"{0}/{1}_{2}.jpg\".format(path_to, items[key],key))\n",
    "                #print(os.path.join(clusters,folder,key+\".jpg\"),\"{0}/{1}_{2}.jpg\".format(path_to, items[key],key))\n",
    "            except Exception as e:\n",
    "                print(key, \" Error: \", e)\n",
    "                pass\n",
    "            \n",
    "order_cluster_nearest(clusters_affinity100,feature_matrix,df)"
   ]
  },
  {
   "cell_type": "code",
   "execution_count": 4,
   "metadata": {},
   "outputs": [
    {
     "name": "stdout",
     "output_type": "stream",
     "text": [
      "0\n",
      "method: affinity\n"
     ]
    }
   ],
   "source": [
    "DIR = \"/mnt/e/Tasks/Vistas Situadas - Imagens/classification/\"\n",
    "cluster_folder = \"duplicates_geo\"\n",
    "method='affinity'\n",
    "#affinity = 'precomputed'\n",
    "karg = -50\n",
    "def order_cluster_method(DIR, X, df): \n",
    "    cluster_number = 'cluster_{0}'.format(method)   \n",
    "    for folder in os.listdir(DIR+cluster_folder):        \n",
    "        df2 = df.copy()\n",
    "        folder_list = [x.split(\".\")[0] for x in os.listdir(DIR+cluster_folder+\"/\"+folder)]\n",
    "        index_list = [df[\"id\"].to_list().index(item.split(\".\")[0])for item in folder_list if item.split(\".\")[0] in df[\"id\"].to_list()]    \n",
    "       \n",
    "        print(folder)    \n",
    "        df2['cluster_{0}'.format(method)] = cluster(X.iloc[index_list],method=method, preference=karg)\n",
    "        df2 = df2.dropna(subset=['cluster_{0}'.format(method) ])\n",
    "\n",
    "        for i, item in df2.iterrows(): \n",
    "            path_to = \"{0}/{1}/{2}\".format(DIR,cluster_folder+\"_ordered-50\",folder)\n",
    "            if item[cluster_number] != np.nan:\n",
    "                if not os.path.exists(path_to):\n",
    "                    os.makedirs(path_to)\n",
    "                shutil.copy(item[\"filename\"],path_to+\"/\"+str(item['cluster_{0}'.format(method) ])+\"_\"+ item[\"id\"]+\".jpg\")\n",
    "\n",
    "            \n",
    "order_cluster_method(DIR,feature_matrix,df)"
   ]
  },
  {
   "cell_type": "code",
   "execution_count": null,
   "metadata": {},
   "outputs": [],
   "source": [
    "DIR = \"/mnt/e/Tasks/Vistas Situadas - Imagens/images_cropped/\"\n",
    "method='affinity'\n",
    "karg = -100\n",
    "\n",
    "folder_list = os.listdir(DIR)    \n",
    "index_list = [df[\"id\"].to_list().index(item.split(\".\")[0])for item in folder_list if item.split(\".\")[0] in df[\"id\"].to_list()]\n",
    "\n",
    "df['cluster_{0}'.format(method)] = cluster(feature_matrix.iloc[index_list],method=method, preference=karg)\n",
    "df2 = df.dropna(subset=['cluster_{0}'.format(method)])\n",
    "\n",
    "\n",
    "for i, item in df2.iterrows(): \n",
    "    path_to = \"{0}/{1}/{2}/{3}\".format(DIR,method,method+str(karg),item['cluster_{0}'.format(method)])\n",
    "    if item['cluster_{0}'.format(method)] != np.nan:\n",
    "        if not os.path.exists(path_to):\n",
    "            os.makedirs(path_to)\n",
    "        shutil.copy(item[\"filename\"],path_to+\"/\"+item[\"id\"]+\".jpg\") "
   ]
  }
 ],
 "metadata": {
  "interpreter": {
   "hash": "fdc030d2aff99b4e0b8022eb6d55fbfb90d55598a46a3401b28c91dfb1820d3f"
  },
  "kernelspec": {
   "display_name": "Python 3.8.0 64-bit ('ivpy-8DFwxc5m': pipenv)",
   "language": "python",
   "name": "python3"
  },
  "language_info": {
   "codemirror_mode": {
    "name": "ipython",
    "version": 3
   },
   "file_extension": ".py",
   "mimetype": "text/x-python",
   "name": "python",
   "nbconvert_exporter": "python",
   "pygments_lexer": "ipython3",
   "version": "3.8.0"
  },
  "orig_nbformat": 4
 },
 "nbformat": 4,
 "nbformat_minor": 2
}
