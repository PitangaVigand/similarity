{
 "cells": [
  {
   "cell_type": "markdown",
   "metadata": {},
   "source": [
    "#SETUP"
   ]
  },
  {
   "cell_type": "code",
   "execution_count": null,
   "metadata": {},
   "outputs": [],
   "source": [
    "import pandas as pd\n",
    "import os\n",
    "import numpy\n",
    "import pickle\n",
    "\n",
    "from ivpy import attach,show,montage,histogram,scatter,compose\n",
    "from ivpy.extract import extract\n",
    "from ivpy.reduce import pca,tsne,umap\n",
    "from ivpy.cluster import cluster\n",
    "from ivpy.extract import norm\n",
    "from sklearn.metrics import adjusted_rand_score as adjrand\n",
    "from annoy import AnnoyIndex\n",
    "from ivpy.data import _typecheck,_pathfilter,_featfilter,seq_types\n",
    "from ivpy.plot import show"
   ]
  },
  {
   "cell_type": "code",
   "execution_count": null,
   "metadata": {},
   "outputs": [],
   "source": [
    "#load files\n",
    "metadata = pd.read_csv(\"/mnt/e/Tasks/similarity/Files/metadata.csv\")\n",
    "DIR = \"/mnt/e/Tasks/Vistas Situadas - Imagens/images_cropped\"\n",
    "df = pd.DataFrame()\n",
    "df[\"id\"] = [id.split(\".\")[0] for id in os.listdir(DIR) if id.endswith(\".jpg\")]\n",
    "df[\"filename\"] = [os.path.join(DIR, filename) for filename in os.listdir(DIR) if filename.endswith(\".jpg\")]"
   ]
  },
  {
   "cell_type": "code",
   "execution_count": null,
   "metadata": {},
   "outputs": [],
   "source": [
    "#Add information regarding the status of if the img \n",
    "df['geolocated'] = metadata[\"Source ID\"].apply(lambda x: int(1) if x.endswith(\"_geo.jpg\") else 0 )\n",
    "df.set_index(\"id\",inplace=True)\n",
    "metadata.set_index(\"Source ID\",inplace=True)\n",
    "df.reset_index(inplace=True)"
   ]
  },
  {
   "cell_type": "markdown",
   "metadata": {},
   "source": [
    "#EXTRACT"
   ]
  },
  {
   "cell_type": "code",
   "execution_count": null,
   "metadata": {},
   "outputs": [],
   "source": [
    "\n",
    "attach(df, \"filename\")\n",
    "X = extract('neural')\n",
    "feature_matrix=norm(X)"
   ]
  },
  {
   "cell_type": "markdown",
   "metadata": {},
   "source": [
    "#SAVE"
   ]
  },
  {
   "cell_type": "code",
   "execution_count": null,
   "metadata": {},
   "outputs": [],
   "source": [
    "df.to_pickle(\"/mnt/e/Tasks/similarity/files/situated_views_df_gray.pickle\")\n",
    "feature_matrix.to_pickle(\"/mnt/e/Tasks/similarity/files/situated_views_features_gray.pickle\")"
   ]
  }
 ],
 "metadata": {
  "interpreter": {
   "hash": "fdc030d2aff99b4e0b8022eb6d55fbfb90d55598a46a3401b28c91dfb1820d3f"
  },
  "kernelspec": {
   "display_name": "Python 3.8.0 64-bit ('ivpy-8DFwxc5m': pipenv)",
   "name": "python3"
  },
  "language_info": {
   "codemirror_mode": {
    "name": "ipython",
    "version": 3
   },
   "file_extension": ".py",
   "mimetype": "text/x-python",
   "name": "python",
   "nbconvert_exporter": "python",
   "pygments_lexer": "ipython3",
   "version": "3.8.0"
  },
  "orig_nbformat": 4
 },
 "nbformat": 4,
 "nbformat_minor": 2
}
