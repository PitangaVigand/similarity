{
 "cells": [
  {
   "cell_type": "markdown",
   "metadata": {},
   "source": [
    "#SETUP"
   ]
  },
  {
   "cell_type": "code",
   "execution_count": 1,
   "metadata": {},
   "outputs": [],
   "source": [
    "import pandas as pd\n",
    "import shutil\n",
    "from PIL import Image\n",
    "import os"
   ]
  },
  {
   "cell_type": "code",
   "execution_count": null,
   "metadata": {},
   "outputs": [],
   "source": [
    "metadata = pd.read_csv(\"/mnt/e/Tasks/similarity/files/metadata.csv\")\n",
    "feature_matrix = pd.read_pickle(\"/mnt/e/Tasks/similarity/files/situated_views_features.pickle\")\n",
    "df = pd.read_pickle(\"/mnt/e/Tasks/similarity/files/situated_views_df.pickle\")"
   ]
  },
  {
   "cell_type": "markdown",
   "metadata": {},
   "source": [
    "#RUN"
   ]
  },
  {
   "cell_type": "code",
   "execution_count": null,
   "metadata": {},
   "outputs": [],
   "source": [
    "DIR = \"/mnt/e/Tasks/Vistas Situadas - Imagens/classification/proportion\"\n",
    "for i, item in df.iterrows(): \n",
    "    with Image.open(item[\"filename\"]) as img:\n",
    "        w, h = img.size  \n",
    "\n",
    "    if (w/h) > 1.8:\n",
    "        path_to = \"{0}/esterioscopia\".format(DIR)\n",
    "        if not os.path.exists(path_to):\n",
    "            os.makedirs(path_to)\n",
    "        shutil.copy(item[\"filename\"],path_to+\"/\"+item[\"id\"]+\".jpg\")\n",
    "    elif  1.15 < (w/h) <1.80:\n",
    "        path_to = \"{0}/horizontal\".format(DIR)\n",
    "        if not os.path.exists(path_to):\n",
    "            os.makedirs(path_to)\n",
    "        shutil.copy(item[\"filename\"],path_to+\"/\"+item[\"id\"]+\".jpg\")\n",
    "    elif  (w/h) < .90:\n",
    "        path_to = \"{0}/vertical\".format(DIR)\n",
    "        if not os.path.exists(path_to):\n",
    "            os.makedirs(path_to)\n",
    "        shutil.copy(item[\"filename\"],path_to+\"/\"+item[\"id\"]+\".jpg\")\n",
    "    else:\n",
    "        path_to = \"{0}/quadrada\".format(DIR)\n",
    "        if not os.path.exists(path_to):\n",
    "            os.makedirs(path_to)\n",
    "        shutil.copy(item[\"filename\"],path_to+\"/\"+item[\"id\"]+\".jpg\")"
   ]
  },
  {
   "cell_type": "code",
   "execution_count": null,
   "metadata": {},
   "outputs": [],
   "source": [
    "DIR = \"/mnt/e/Tasks/Vistas Situadas - Imagens/classification/sizes\"\n",
    "for i, item in df.iterrows(): \n",
    "    with Image.open(item[\"filename\"]) as img:\n",
    "        w, h = img.size  \n",
    "    path_to = \"{0}/{1}x{2}\".format(DIR,w,h)\n",
    "    if not os.path.exists(path_to):\n",
    "        os.makedirs(path_to)\n",
    "    shutil.copy(item[\"filename\"],path_to+\"/\"+item[\"id\"]+\".jpg\")"
   ]
  }
 ],
 "metadata": {
  "interpreter": {
   "hash": "4b0ce5bb906f049829a87d531d97940ef1a0a24215d6346c3435bd3dd313097b"
  },
  "kernelspec": {
   "display_name": "Python 3.8.0 64-bit ('similarity-Pgg5w_uz': pipenv)",
   "language": "python",
   "name": "python3"
  },
  "language_info": {
   "codemirror_mode": {
    "name": "ipython",
    "version": 3
   },
   "file_extension": ".py",
   "mimetype": "text/x-python",
   "name": "python",
   "nbconvert_exporter": "python",
   "pygments_lexer": "ipython3",
   "version": "3.8.0"
  },
  "orig_nbformat": 4
 },
 "nbformat": 4,
 "nbformat_minor": 2
}
