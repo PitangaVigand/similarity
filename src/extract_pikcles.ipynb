{
 "cells": [
  {
   "cell_type": "markdown",
   "metadata": {},
   "source": [
    "Tarefa: criar uma funcao que recebe conj1 e conj2 (de preferencia via loc \n",
    "em um mesmo df) e sinaliza de alguma forma potenciais duplicatas de conj1 em\n",
    "conj2."
   ]
  },
  {
   "cell_type": "code",
   "execution_count": 1,
   "metadata": {},
   "outputs": [
    {
     "name": "stderr",
     "output_type": "stream",
     "text": [
      "2021-11-23 13:22:53.034737: W tensorflow/stream_executor/platform/default/dso_loader.cc:64] Could not load dynamic library 'libcudart.so.11.0'; dlerror: libcudart.so.11.0: cannot open shared object file: No such file or directory\n",
      "2021-11-23 13:22:53.034784: I tensorflow/stream_executor/cuda/cudart_stub.cc:29] Ignore above cudart dlerror if you do not have a GPU set up on your machine.\n"
     ]
    }
   ],
   "source": [
    "import pandas as pd\n",
    "import os\n",
    "import numpy\n",
    "import pickle\n",
    "\n",
    "from ivpy import attach,show,montage,histogram,scatter,compose\n",
    "from ivpy.extract import extract\n",
    "from ivpy.reduce import pca,tsne,umap\n",
    "from ivpy.cluster import cluster\n",
    "from ivpy.extract import norm\n",
    "from sklearn.metrics import adjusted_rand_score as adjrand\n",
    "from annoy import AnnoyIndex\n",
    "from ivpy.data import _typecheck,_pathfilter,_featfilter,seq_types\n",
    "from ivpy.plot import show"
   ]
  },
  {
   "cell_type": "code",
   "execution_count": 2,
   "metadata": {},
   "outputs": [],
   "source": [
    "metadata = pd.read_csv(\"/mnt/e/Tasks/similarity/Files/metadata.csv\")"
   ]
  },
  {
   "cell_type": "markdown",
   "metadata": {},
   "source": [
    "#PREPARE DF"
   ]
  },
  {
   "cell_type": "code",
   "execution_count": 3,
   "metadata": {},
   "outputs": [],
   "source": [
    "DIR = \"/mnt/e/Tasks/Vistas Situadas - Imagens/images_cropped\"\n",
    "df = pd.DataFrame()\n",
    "df[\"id\"] = [id.split(\".\")[0] for id in os.listdir(DIR) if id.endswith(\".jpg\")]\n",
    "df[\"filename\"] = [os.path.join(DIR, filename) for filename in os.listdir(DIR) if filename.endswith(\".jpg\")]"
   ]
  },
  {
   "cell_type": "code",
   "execution_count": 4,
   "metadata": {},
   "outputs": [
    {
     "data": {
      "text/html": [
       "<div>\n",
       "<style scoped>\n",
       "    .dataframe tbody tr th:only-of-type {\n",
       "        vertical-align: middle;\n",
       "    }\n",
       "\n",
       "    .dataframe tbody tr th {\n",
       "        vertical-align: top;\n",
       "    }\n",
       "\n",
       "    .dataframe thead th {\n",
       "        text-align: right;\n",
       "    }\n",
       "</style>\n",
       "<table border=\"1\" class=\"dataframe\">\n",
       "  <thead>\n",
       "    <tr style=\"text-align: right;\">\n",
       "      <th></th>\n",
       "      <th>id</th>\n",
       "      <th>filename</th>\n",
       "    </tr>\n",
       "  </thead>\n",
       "  <tbody>\n",
       "    <tr>\n",
       "      <th>0</th>\n",
       "      <td>001AAN005121_geo</td>\n",
       "      <td>/mnt/e/Tasks/Vistas Situadas - Imagens/images_...</td>\n",
       "    </tr>\n",
       "    <tr>\n",
       "      <th>1</th>\n",
       "      <td>001AAN005122_geo</td>\n",
       "      <td>/mnt/e/Tasks/Vistas Situadas - Imagens/images_...</td>\n",
       "    </tr>\n",
       "    <tr>\n",
       "      <th>2</th>\n",
       "      <td>001AAN005123_geo</td>\n",
       "      <td>/mnt/e/Tasks/Vistas Situadas - Imagens/images_...</td>\n",
       "    </tr>\n",
       "    <tr>\n",
       "      <th>3</th>\n",
       "      <td>001AAN005124_geo</td>\n",
       "      <td>/mnt/e/Tasks/Vistas Situadas - Imagens/images_...</td>\n",
       "    </tr>\n",
       "    <tr>\n",
       "      <th>4</th>\n",
       "      <td>001AAN005125_geo</td>\n",
       "      <td>/mnt/e/Tasks/Vistas Situadas - Imagens/images_...</td>\n",
       "    </tr>\n",
       "    <tr>\n",
       "      <th>...</th>\n",
       "      <td>...</td>\n",
       "      <td>...</td>\n",
       "    </tr>\n",
       "    <tr>\n",
       "      <th>5599</th>\n",
       "      <td>P015 BR RJIHGB 125IG 0008</td>\n",
       "      <td>/mnt/e/Tasks/Vistas Situadas - Imagens/images_...</td>\n",
       "    </tr>\n",
       "    <tr>\n",
       "      <th>5600</th>\n",
       "      <td>P015 BR RJIHGB 125IG 0009</td>\n",
       "      <td>/mnt/e/Tasks/Vistas Situadas - Imagens/images_...</td>\n",
       "    </tr>\n",
       "    <tr>\n",
       "      <th>5601</th>\n",
       "      <td>P015 BR RJIHGB 125IG 0010</td>\n",
       "      <td>/mnt/e/Tasks/Vistas Situadas - Imagens/images_...</td>\n",
       "    </tr>\n",
       "    <tr>\n",
       "      <th>5602</th>\n",
       "      <td>P015 BR RJIHGB 125IG 0011</td>\n",
       "      <td>/mnt/e/Tasks/Vistas Situadas - Imagens/images_...</td>\n",
       "    </tr>\n",
       "    <tr>\n",
       "      <th>5603</th>\n",
       "      <td>P015 BR RJIHGB 125IG 0012</td>\n",
       "      <td>/mnt/e/Tasks/Vistas Situadas - Imagens/images_...</td>\n",
       "    </tr>\n",
       "  </tbody>\n",
       "</table>\n",
       "<p>5604 rows × 2 columns</p>\n",
       "</div>"
      ],
      "text/plain": [
       "                             id  \\\n",
       "0              001AAN005121_geo   \n",
       "1              001AAN005122_geo   \n",
       "2              001AAN005123_geo   \n",
       "3              001AAN005124_geo   \n",
       "4              001AAN005125_geo   \n",
       "...                         ...   \n",
       "5599  P015 BR RJIHGB 125IG 0008   \n",
       "5600  P015 BR RJIHGB 125IG 0009   \n",
       "5601  P015 BR RJIHGB 125IG 0010   \n",
       "5602  P015 BR RJIHGB 125IG 0011   \n",
       "5603  P015 BR RJIHGB 125IG 0012   \n",
       "\n",
       "                                               filename  \n",
       "0     /mnt/e/Tasks/Vistas Situadas - Imagens/images_...  \n",
       "1     /mnt/e/Tasks/Vistas Situadas - Imagens/images_...  \n",
       "2     /mnt/e/Tasks/Vistas Situadas - Imagens/images_...  \n",
       "3     /mnt/e/Tasks/Vistas Situadas - Imagens/images_...  \n",
       "4     /mnt/e/Tasks/Vistas Situadas - Imagens/images_...  \n",
       "...                                                 ...  \n",
       "5599  /mnt/e/Tasks/Vistas Situadas - Imagens/images_...  \n",
       "5600  /mnt/e/Tasks/Vistas Situadas - Imagens/images_...  \n",
       "5601  /mnt/e/Tasks/Vistas Situadas - Imagens/images_...  \n",
       "5602  /mnt/e/Tasks/Vistas Situadas - Imagens/images_...  \n",
       "5603  /mnt/e/Tasks/Vistas Situadas - Imagens/images_...  \n",
       "\n",
       "[5604 rows x 2 columns]"
      ]
     },
     "execution_count": 4,
     "metadata": {},
     "output_type": "execute_result"
    }
   ],
   "source": [
    "df"
   ]
  },
  {
   "cell_type": "code",
   "execution_count": 5,
   "metadata": {},
   "outputs": [
    {
     "data": {
      "text/html": [
       "<div>\n",
       "<style scoped>\n",
       "    .dataframe tbody tr th:only-of-type {\n",
       "        vertical-align: middle;\n",
       "    }\n",
       "\n",
       "    .dataframe tbody tr th {\n",
       "        vertical-align: top;\n",
       "    }\n",
       "\n",
       "    .dataframe thead th {\n",
       "        text-align: right;\n",
       "    }\n",
       "</style>\n",
       "<table border=\"1\" class=\"dataframe\">\n",
       "  <thead>\n",
       "    <tr style=\"text-align: right;\">\n",
       "      <th></th>\n",
       "      <th>id</th>\n",
       "      <th>filename</th>\n",
       "      <th>geolocated</th>\n",
       "    </tr>\n",
       "  </thead>\n",
       "  <tbody>\n",
       "    <tr>\n",
       "      <th>0</th>\n",
       "      <td>001AAN005121_geo</td>\n",
       "      <td>/mnt/e/Tasks/Vistas Situadas - Imagens/images_...</td>\n",
       "      <td>0</td>\n",
       "    </tr>\n",
       "    <tr>\n",
       "      <th>1</th>\n",
       "      <td>001AAN005122_geo</td>\n",
       "      <td>/mnt/e/Tasks/Vistas Situadas - Imagens/images_...</td>\n",
       "      <td>0</td>\n",
       "    </tr>\n",
       "    <tr>\n",
       "      <th>2</th>\n",
       "      <td>001AAN005123_geo</td>\n",
       "      <td>/mnt/e/Tasks/Vistas Situadas - Imagens/images_...</td>\n",
       "      <td>0</td>\n",
       "    </tr>\n",
       "    <tr>\n",
       "      <th>3</th>\n",
       "      <td>001AAN005124_geo</td>\n",
       "      <td>/mnt/e/Tasks/Vistas Situadas - Imagens/images_...</td>\n",
       "      <td>0</td>\n",
       "    </tr>\n",
       "    <tr>\n",
       "      <th>4</th>\n",
       "      <td>001AAN005125_geo</td>\n",
       "      <td>/mnt/e/Tasks/Vistas Situadas - Imagens/images_...</td>\n",
       "      <td>0</td>\n",
       "    </tr>\n",
       "    <tr>\n",
       "      <th>...</th>\n",
       "      <td>...</td>\n",
       "      <td>...</td>\n",
       "      <td>...</td>\n",
       "    </tr>\n",
       "    <tr>\n",
       "      <th>5599</th>\n",
       "      <td>P015 BR RJIHGB 125IG 0008</td>\n",
       "      <td>/mnt/e/Tasks/Vistas Situadas - Imagens/images_...</td>\n",
       "      <td>0</td>\n",
       "    </tr>\n",
       "    <tr>\n",
       "      <th>5600</th>\n",
       "      <td>P015 BR RJIHGB 125IG 0009</td>\n",
       "      <td>/mnt/e/Tasks/Vistas Situadas - Imagens/images_...</td>\n",
       "      <td>0</td>\n",
       "    </tr>\n",
       "    <tr>\n",
       "      <th>5601</th>\n",
       "      <td>P015 BR RJIHGB 125IG 0010</td>\n",
       "      <td>/mnt/e/Tasks/Vistas Situadas - Imagens/images_...</td>\n",
       "      <td>0</td>\n",
       "    </tr>\n",
       "    <tr>\n",
       "      <th>5602</th>\n",
       "      <td>P015 BR RJIHGB 125IG 0011</td>\n",
       "      <td>/mnt/e/Tasks/Vistas Situadas - Imagens/images_...</td>\n",
       "      <td>0</td>\n",
       "    </tr>\n",
       "    <tr>\n",
       "      <th>5603</th>\n",
       "      <td>P015 BR RJIHGB 125IG 0012</td>\n",
       "      <td>/mnt/e/Tasks/Vistas Situadas - Imagens/images_...</td>\n",
       "      <td>0</td>\n",
       "    </tr>\n",
       "  </tbody>\n",
       "</table>\n",
       "<p>5604 rows × 3 columns</p>\n",
       "</div>"
      ],
      "text/plain": [
       "                             id  \\\n",
       "0              001AAN005121_geo   \n",
       "1              001AAN005122_geo   \n",
       "2              001AAN005123_geo   \n",
       "3              001AAN005124_geo   \n",
       "4              001AAN005125_geo   \n",
       "...                         ...   \n",
       "5599  P015 BR RJIHGB 125IG 0008   \n",
       "5600  P015 BR RJIHGB 125IG 0009   \n",
       "5601  P015 BR RJIHGB 125IG 0010   \n",
       "5602  P015 BR RJIHGB 125IG 0011   \n",
       "5603  P015 BR RJIHGB 125IG 0012   \n",
       "\n",
       "                                               filename  geolocated  \n",
       "0     /mnt/e/Tasks/Vistas Situadas - Imagens/images_...           0  \n",
       "1     /mnt/e/Tasks/Vistas Situadas - Imagens/images_...           0  \n",
       "2     /mnt/e/Tasks/Vistas Situadas - Imagens/images_...           0  \n",
       "3     /mnt/e/Tasks/Vistas Situadas - Imagens/images_...           0  \n",
       "4     /mnt/e/Tasks/Vistas Situadas - Imagens/images_...           0  \n",
       "...                                                 ...         ...  \n",
       "5599  /mnt/e/Tasks/Vistas Situadas - Imagens/images_...           0  \n",
       "5600  /mnt/e/Tasks/Vistas Situadas - Imagens/images_...           0  \n",
       "5601  /mnt/e/Tasks/Vistas Situadas - Imagens/images_...           0  \n",
       "5602  /mnt/e/Tasks/Vistas Situadas - Imagens/images_...           0  \n",
       "5603  /mnt/e/Tasks/Vistas Situadas - Imagens/images_...           0  \n",
       "\n",
       "[5604 rows x 3 columns]"
      ]
     },
     "execution_count": 5,
     "metadata": {},
     "output_type": "execute_result"
    }
   ],
   "source": [
    "#Add information regarding the status of if the img \n",
    "\n",
    "df['geolocated'] = metadata[\"Source ID\"].apply(lambda x: int(1) if x.endswith(\"_geo.jpg\") else 0 )\n",
    "\n",
    "df.set_index(\"id\",inplace=True)\n",
    "metadata.set_index(\"Source ID\",inplace=True)\n",
    "df.reset_index(inplace=True)\n",
    "df"
   ]
  },
  {
   "cell_type": "code",
   "execution_count": 6,
   "metadata": {},
   "outputs": [],
   "source": [
    "attach(df, \"filename\")"
   ]
  },
  {
   "cell_type": "code",
   "execution_count": 7,
   "metadata": {},
   "outputs": [
    {
     "name": "stderr",
     "output_type": "stream",
     "text": [
      "2021-11-23 13:22:58.119759: W tensorflow/stream_executor/platform/default/dso_loader.cc:64] Could not load dynamic library 'libcuda.so.1'; dlerror: libcuda.so.1: cannot open shared object file: No such file or directory\n",
      "2021-11-23 13:22:58.119794: W tensorflow/stream_executor/cuda/cuda_driver.cc:269] failed call to cuInit: UNKNOWN ERROR (303)\n",
      "2021-11-23 13:22:58.119809: I tensorflow/stream_executor/cuda/cuda_diagnostics.cc:156] kernel driver does not appear to be running on this host (DESKTOP-F74BU77): /proc/driver/nvidia/version does not exist\n",
      "2021-11-23 13:22:58.119953: I tensorflow/core/platform/cpu_feature_guard.cc:151] This TensorFlow binary is optimized with oneAPI Deep Neural Network Library (oneDNN) to use the following CPU instructions in performance-critical operations:  AVX2 FMA\n",
      "To enable them in other operations, rebuild TensorFlow with the appropriate compiler flags.\n"
     ]
    },
    {
     "name": "stdout",
     "output_type": "stream",
     "text": [
      "Downloading data from https://storage.googleapis.com/tensorflow/keras-applications/resnet/resnet50_weights_tf_dim_ordering_tf_kernels.h5\n",
      "102973440/102967424 [==============================] - 8s 0us/step\n",
      "102981632/102967424 [==============================] - 8s 0us/step\n",
      "5% 10% 15% 20% 25% 30% 35% 40% 45% 50% 55% 60% 65% 70% 75% 80% 85% 90% 95% "
     ]
    }
   ],
   "source": [
    "X = extract('neural')\n",
    "feature_matrix=norm(X)"
   ]
  },
  {
   "cell_type": "markdown",
   "metadata": {},
   "source": [
    "#save pickels"
   ]
  },
  {
   "cell_type": "code",
   "execution_count": 8,
   "metadata": {},
   "outputs": [],
   "source": [
    "df.to_pickle(\"/mnt/e/Tasks/similarity/files/situated_views_df_gray.pickle\")\n",
    "feature_matrix.to_pickle(\"/mnt/e/Tasks/similarity/files/situated_views_features_gray.pickle\")"
   ]
  }
 ],
 "metadata": {
  "interpreter": {
   "hash": "fdc030d2aff99b4e0b8022eb6d55fbfb90d55598a46a3401b28c91dfb1820d3f"
  },
  "kernelspec": {
   "display_name": "Python 3.8.0 64-bit ('ivpy-8DFwxc5m': pipenv)",
   "name": "python3"
  },
  "language_info": {
   "codemirror_mode": {
    "name": "ipython",
    "version": 3
   },
   "file_extension": ".py",
   "mimetype": "text/x-python",
   "name": "python",
   "nbconvert_exporter": "python",
   "pygments_lexer": "ipython3",
   "version": "3.8.0"
  },
  "orig_nbformat": 4
 },
 "nbformat": 4,
 "nbformat_minor": 2
}
