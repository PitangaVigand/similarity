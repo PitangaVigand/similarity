{
 "cells": [
  {
   "cell_type": "code",
   "execution_count": null,
   "source": [
    "import pandas as pd\n",
    "from ivpy import attach,show,montage,histogram,scatter"
   ],
   "outputs": [],
   "metadata": {}
  },
  {
   "cell_type": "code",
   "execution_count": null,
   "source": [
    "df = pd.read_csv(\"oxfordflower.csv\")"
   ],
   "outputs": [],
   "metadata": {}
  },
  {
   "cell_type": "code",
   "execution_count": null,
   "source": [
    "DIR = \"/mnt/e/Tasks/similarity/Images/jpg/\"\n",
    "df.filename = [DIR+item for item in df.filename]"
   ],
   "outputs": [],
   "metadata": {}
  },
  {
   "cell_type": "code",
   "execution_count": null,
   "source": [
    "attach(df,'filename')"
   ],
   "outputs": [],
   "metadata": {}
  },
  {
   "cell_type": "markdown",
   "source": [
    "# show( )"
   ],
   "metadata": {}
  },
  {
   "cell_type": "markdown",
   "source": [
    "We saw in Tutorial 0 that show( ), passed without arguments, plots every image in the attached dataframe as a scrolling, rectagular montage. This is useful for getting a quick look at the data, and the default thumbnail size, 100px, is big enough that the user can read scene content in the images. \n",
    "\n",
    "Although show( ) is the simplest of the plotting functions, it introduces a set of keyword arguments (kwargs) that are common to all plot types: pathcol, xcol, xdomain, thumb, sample, idx, bg, and ascending."
   ],
   "metadata": {}
  },
  {
   "cell_type": "markdown",
   "source": [
    "### pathcol"
   ],
   "metadata": {}
  },
  {
   "cell_type": "markdown",
   "source": [
    "When we use attach( ), we tell the module where to look for image paths, but we can override this behavior using 'pathcol'. The show( ) function will plot whatever sequence of image paths you assign to 'pathcol'. In fact, you can even pass a single integer, and show( ) will plot the image with that index in the attached dataframe. In this case, the image is displayed at full size by default."
   ],
   "metadata": {}
  },
  {
   "cell_type": "code",
   "execution_count": null,
   "source": [
    "show(pathcol=1)"
   ],
   "outputs": [],
   "metadata": {}
  },
  {
   "cell_type": "markdown",
   "source": [
    "By the way, since 'pathcol' is the first keyword argument in the function definition, we don't even have to write 'pathcol='. Whatever we pass as the first argument to show( ) will be treated as pathcol:"
   ],
   "metadata": {}
  },
  {
   "cell_type": "code",
   "execution_count": null,
   "source": [
    "show(1)"
   ],
   "outputs": [],
   "metadata": {}
  },
  {
   "cell_type": "markdown",
   "source": [
    "The 'pathcol' argument can be used in combination with the slicing and indexing operations of pandas to display any subset of the data we wish:"
   ],
   "metadata": {}
  },
  {
   "cell_type": "code",
   "execution_count": null,
   "source": [
    "show(df.filename[df.flowername=='tigerlily'])"
   ],
   "outputs": [],
   "metadata": {}
  },
  {
   "cell_type": "markdown",
   "source": [
    "### xcol and ascending"
   ],
   "metadata": {}
  },
  {
   "cell_type": "markdown",
   "source": [
    "By default, show( ) displays images by their dataframe ordering, whatever it is at the time of attachment. But we can override this behavior using 'xcol'. Whatever column we assign to 'xcol' will be used to sort the images, and we can invert the ordering using 'ascending', which is False by default.  "
   ],
   "metadata": {}
  },
  {
   "cell_type": "code",
   "execution_count": null,
   "source": [
    "show(xcol='brightness',ascending=True)"
   ],
   "outputs": [],
   "metadata": {}
  },
  {
   "cell_type": "markdown",
   "source": [
    "### xdomain"
   ],
   "metadata": {}
  },
  {
   "cell_type": "markdown",
   "source": [
    "It's always possible to pass pandas-sliced data to any ivpy function, but we can also use ivpy itself to subset our data. If we assign to 'xdomain' a tuple of the form (left bound, right bound), it will only display data within those bounds. Of course, we have to assign 'xcol' as well, or else it won't know which column to use."
   ],
   "metadata": {}
  },
  {
   "cell_type": "code",
   "execution_count": null,
   "source": [
    "show(xcol='brightness',ascending=True,xdomain=(0.7,0.8))"
   ],
   "outputs": [],
   "metadata": {}
  },
  {
   "cell_type": "markdown",
   "source": [
    "### thumb"
   ],
   "metadata": {}
  },
  {
   "cell_type": "markdown",
   "source": [
    "Thus far, we've been allowing show( ) to plot images using the default thumbnail size, 100px. But the user can always override the default with 'thumb'. "
   ],
   "metadata": {}
  },
  {
   "cell_type": "code",
   "execution_count": null,
   "source": [
    "show(thumb=16)"
   ],
   "outputs": [],
   "metadata": {}
  },
  {
   "cell_type": "markdown",
   "source": [
    "### sample"
   ],
   "metadata": {}
  },
  {
   "cell_type": "markdown",
   "source": [
    "If we have a very large dataset, we may want to look at a random sample of the data before trying to explore everything. The user can assign an integer to 'sample', and show( ) will display a random sample of that size."
   ],
   "metadata": {}
  },
  {
   "cell_type": "code",
   "execution_count": null,
   "source": [
    "show(sample=25)"
   ],
   "outputs": [],
   "metadata": {}
  },
  {
   "cell_type": "markdown",
   "source": [
    "### idx"
   ],
   "metadata": {}
  },
  {
   "cell_type": "markdown",
   "source": [
    "There will be situations where we see an image in a plot and want to trace it back to the metadata. Let's say we produce the following plot:"
   ],
   "metadata": {}
  },
  {
   "cell_type": "code",
   "execution_count": null,
   "source": [
    "show(xcol='brightness',xdomain=(0.7,0.75))"
   ],
   "outputs": [],
   "metadata": {}
  },
  {
   "cell_type": "markdown",
   "source": [
    "Let's say we want to check why the 4th and 5th images in the top row look to be the same. We presently have no great way to find that image in the data once it's plotted. This is where 'idx' comes in. If we set 'idx' to 'True', it will print the dataframe index of each image in the upper left corner:"
   ],
   "metadata": {}
  },
  {
   "cell_type": "code",
   "execution_count": null,
   "source": [
    "show(xcol='brightness',xdomain=(0.7,0.75),idx=True)"
   ],
   "outputs": [],
   "metadata": {}
  },
  {
   "cell_type": "markdown",
   "source": [
    "Okay, we now know the indices. Let's look at the filenames:"
   ],
   "metadata": {}
  },
  {
   "cell_type": "code",
   "execution_count": null,
   "source": [
    "df.filename.loc[428]"
   ],
   "outputs": [],
   "metadata": {}
  },
  {
   "cell_type": "code",
   "execution_count": null,
   "source": [
    "df.filename.loc[459]"
   ],
   "outputs": [],
   "metadata": {}
  },
  {
   "cell_type": "markdown",
   "source": [
    "They are different files, but appear to be the very same images. Maybe a data error?"
   ],
   "metadata": {}
  },
  {
   "cell_type": "markdown",
   "source": [
    "### bg"
   ],
   "metadata": {}
  },
  {
   "cell_type": "markdown",
   "source": [
    "Images are plotted by default onto a backing canvas that matches the color specified in the ivpy style file ('style/custom.css' which you may or may not be using right now). But the user can set the background to whatever they like using 'bg'. The 'bg' argument accepts color words like 'black', 'white', 'red'; RGB triplets, and strings specifying hex or other color codes. Anything supported by the Python Imaging Library is acceptable."
   ],
   "metadata": {}
  },
  {
   "cell_type": "code",
   "execution_count": null,
   "source": [
    "show(sample=64,thumb=64,bg=\"white\")"
   ],
   "outputs": [],
   "metadata": {}
  },
  {
   "cell_type": "code",
   "execution_count": null,
   "source": [
    "show(sample=64,thumb=64,bg=(130,100,150))"
   ],
   "outputs": [],
   "metadata": {}
  },
  {
   "cell_type": "code",
   "execution_count": null,
   "source": [
    "show(sample=64,thumb=64,bg=\"#fff888\")"
   ],
   "outputs": [],
   "metadata": {}
  },
  {
   "cell_type": "code",
   "execution_count": null,
   "source": [
    "show(sample=64,thumb=64,bg=\"hsl(200,50%,50%)\")"
   ],
   "outputs": [],
   "metadata": {}
  }
 ],
 "metadata": {
  "kernelspec": {
   "name": "python3",
   "display_name": "Python 3.8.0 64-bit ('ivpy-8DFwxc5m': pipenv)"
  },
  "language_info": {
   "codemirror_mode": {
    "name": "ipython",
    "version": 3
   },
   "file_extension": ".py",
   "mimetype": "text/x-python",
   "name": "python",
   "nbconvert_exporter": "python",
   "pygments_lexer": "ipython3",
   "version": "3.8.0"
  },
  "interpreter": {
   "hash": "6af95c7f8f5a549e077090ad10afabf256e8805c978fb5d0c0d9b84296ca14ca"
  }
 },
 "nbformat": 4,
 "nbformat_minor": 2
}