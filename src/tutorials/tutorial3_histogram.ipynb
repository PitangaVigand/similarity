{
 "cells": [
  {
   "cell_type": "code",
   "execution_count": null,
   "metadata": {},
   "outputs": [],
   "source": [
    "import pandas as pd\n",
    "from ivpy import attach,show,montage,histogram,scatter,compose"
   ]
  },
  {
   "cell_type": "code",
   "execution_count": null,
   "metadata": {},
   "outputs": [],
   "source": [
    "df = pd.read_csv(\"oxfordflower.csv\")"
   ]
  },
  {
   "cell_type": "code",
   "execution_count": null,
   "metadata": {},
   "outputs": [],
   "source": [
    "DIR = \"/Users/dc987/ivpydatasets/oxfordflower/\"\n",
    "df.filename = [DIR+item for item in df.filename]"
   ]
  },
  {
   "cell_type": "code",
   "execution_count": null,
   "metadata": {},
   "outputs": [],
   "source": [
    "attach(df,'filename')"
   ]
  },
  {
   "cell_type": "markdown",
   "metadata": {},
   "source": [
    "# histogram( )"
   ]
  },
  {
   "cell_type": "markdown",
   "metadata": {},
   "source": [
    "With the histogram, we introduce, at last, a proper data _axis_ and thus a _coordinate system_. Everything about the histogram that distinguishes it from a simple montage arises from this difference. Indeed, an image histogram is just a sequence of columnar montages plotted along a binned axis."
   ]
  },
  {
   "cell_type": "markdown",
   "metadata": {},
   "source": [
    "### xcol and bins"
   ]
  },
  {
   "cell_type": "markdown",
   "metadata": {},
   "source": [
    "Although we've used 'xcol' before, it functions slightly differently in a histogram. Here, it specifies the histogram axis: the one whose values are binned to produce columns of datapoints. Without this axis, we'd have no rule to size and order the columns, and we'd have made no advancement on our simple montage. Accordingly, we _must_ specify 'xcol'."
   ]
  },
  {
   "cell_type": "code",
   "execution_count": null,
   "metadata": {},
   "outputs": [],
   "source": [
    "histogram(xcol='hue',bins=180)"
   ]
  },
  {
   "cell_type": "markdown",
   "metadata": {},
   "source": [
    "If we assign an integer to 'bins', the code will produce that many equal-width bins. We can, alternatively, assign to 'bins' a sequence of bin edges, and they can be spaced however we like. Let's try to gather up that long tail on the right: "
   ]
  },
  {
   "cell_type": "code",
   "execution_count": null,
   "metadata": {},
   "outputs": [],
   "source": [
    "from numpy import arange"
   ]
  },
  {
   "cell_type": "code",
   "execution_count": null,
   "metadata": {},
   "outputs": [],
   "source": [
    "pretail = list(arange(0,120,2))\n",
    "tail = list(arange(120,380,20))\n",
    "binedges = pretail + tail"
   ]
  },
  {
   "cell_type": "code",
   "execution_count": null,
   "metadata": {},
   "outputs": [],
   "source": [
    "histogram(xcol='hue',bins=binedges,thumb=8)"
   ]
  },
  {
   "cell_type": "markdown",
   "metadata": {},
   "source": [
    "Be careful here, however, because viewers will assume the bins are evenly-spaced."
   ]
  },
  {
   "cell_type": "markdown",
   "metadata": {},
   "source": [
    "### ycol and ascending"
   ]
  },
  {
   "cell_type": "markdown",
   "metadata": {},
   "source": [
    "We said above that 'xcol', in effect, sorts columnar montages along an axis. But we know montages can themselves be sorted. So, how do we do that in a histogram? Why, with 'ycol'! Histogram columns are sorted vertically by whatever we assign to 'ycol', and the 'ascending' argument now controls _this_ sorting."
   ]
  },
  {
   "cell_type": "code",
   "execution_count": null,
   "metadata": {},
   "outputs": [],
   "source": [
    "brightbottom = histogram(xcol='saturation',bins=52,thumb=8,ycol='brightness',ascending=False)\n",
    "brighttop = histogram(xcol='saturation',bins=52,thumb=8,ycol='brightness',ascending=True)"
   ]
  },
  {
   "cell_type": "code",
   "execution_count": null,
   "metadata": {},
   "outputs": [],
   "source": [
    "compose(brightbottom,brighttop,thumb=490)"
   ]
  },
  {
   "cell_type": "markdown",
   "metadata": {},
   "source": [
    "On the left, the brightest images are at the bottoms of histogram columns; on the right, they are at the tops."
   ]
  },
  {
   "cell_type": "markdown",
   "metadata": {},
   "source": [
    "### xdomain"
   ]
  },
  {
   "cell_type": "markdown",
   "metadata": {},
   "source": [
    "In tutorial 1, we introduced 'xdomain' as a way of subsetting our data within ivpy function calls, rather than doing it in pandas. When used with show( ) or montage( ), 'xdomain' can _only_ produce subsets of the data to be plotted. But when used with histogram( ) or scatter( ), we can also use it to expand axis ranges beyond the limits of our data. This is particularly useful if we are comparing two plots that have different data ranges. Consider the following two plots, one with windflowers and one with sunflowers."
   ]
  },
  {
   "cell_type": "code",
   "execution_count": null,
   "metadata": {},
   "outputs": [],
   "source": [
    "dfwind = df[df.flowername=='windflower']\n",
    "dfsun = df[df.flowername=='sunflower']"
   ]
  },
  {
   "cell_type": "code",
   "execution_count": null,
   "metadata": {},
   "outputs": [],
   "source": [
    "histogram(pathcol=dfwind.filename,xcol=dfwind.hue,thumb=16)"
   ]
  },
  {
   "cell_type": "code",
   "execution_count": null,
   "metadata": {},
   "outputs": [],
   "source": [
    "histogram(pathcol=dfsun.filename,xcol=dfsun.hue,thumb=16)"
   ]
  },
  {
   "cell_type": "markdown",
   "metadata": {},
   "source": [
    "Though they are the same width in pixels, these two histograms don't have the same bins, and so it's very difficult to compare them directly. We could use the 'bins' argument to assign the same bin edges to both, but it's far easier simply to fix 'xdomain': "
   ]
  },
  {
   "cell_type": "code",
   "execution_count": null,
   "metadata": {},
   "outputs": [],
   "source": [
    "histogram(pathcol=dfwind.filename,xcol=dfwind.hue,xdomain=(0,360),thumb=16)"
   ]
  },
  {
   "cell_type": "code",
   "execution_count": null,
   "metadata": {},
   "outputs": [],
   "source": [
    "histogram(pathcol=dfsun.filename,xcol=dfsun.hue,xdomain=(0,360),thumb=16)"
   ]
  },
  {
   "cell_type": "markdown",
   "metadata": {},
   "source": [
    "Now that we know both sets of histogram bins span the entire hue spectrum from 0 to 360, we can be confident in saying that the sunflowers span a larger hue range."
   ]
  },
  {
   "cell_type": "markdown",
   "metadata": {},
   "source": [
    "### facetcol"
   ]
  },
  {
   "cell_type": "markdown",
   "metadata": {},
   "source": [
    "The domain-fixing made possible by 'xdomain' is used automatically by facetcol. Indeed, the user doesn't even have the option to look at facets with different domains. This restriction ensures that small multiples plots are always domain-consistent."
   ]
  },
  {
   "cell_type": "code",
   "execution_count": null,
   "metadata": {},
   "outputs": [],
   "source": [
    "histogram('hue',facetcol='flowername')"
   ]
  },
  {
   "cell_type": "markdown",
   "metadata": {},
   "source": [
    "### coordinates"
   ]
  },
  {
   "cell_type": "markdown",
   "metadata": {},
   "source": [
    "Just as montage( ) has rectilinear and circular forms, histogram( ) has Cartesian and polar coordinate systems. The default is Cartesian, as it should be, since most variables are linear in nature. But hue, which we used above, is a circular property. Hues are ordered, but no hue is any \"higher\" or \"lower\" than any other. Hue is thus better represented in polar coordinates:"
   ]
  },
  {
   "cell_type": "code",
   "execution_count": null,
   "metadata": {},
   "outputs": [],
   "source": [
    "histogram(xcol='hue',thumb=8,ycol='saturation',coordinates='polar',bins=360)"
   ]
  },
  {
   "cell_type": "markdown",
   "metadata": {},
   "source": [
    "We can also use faceting here:"
   ]
  },
  {
   "cell_type": "code",
   "execution_count": null,
   "metadata": {},
   "outputs": [],
   "source": [
    "histogram(xcol='hue',thumb=64,ycol='saturation',coordinates='polar',bins=360,facetcol='flowername')"
   ]
  },
  {
   "cell_type": "markdown",
   "metadata": {},
   "source": [
    "The keen viewer may have noticed that the facets with fewer images look to have larger images. In fact, all images begin the same size. But facets with fewer images are smaller, because the radius of the circle is determined by the tallest bin in the plot. When the facets are all thumbnailed to the same size, as above, the largest facets \"have the furthest to go\", as it were, and accordingly their images will now look smaller. In future updates, the user will have the option of fixing every facet to the same initial size, as if all the data were plotted together and then selectively removed, leaving behind only the data."
   ]
  }
 ],
 "metadata": {
  "kernelspec": {
   "display_name": "Python 3",
   "language": "python",
   "name": "python3"
  },
  "language_info": {
   "codemirror_mode": {
    "name": "ipython",
    "version": 3
   },
   "file_extension": ".py",
   "mimetype": "text/x-python",
   "name": "python",
   "nbconvert_exporter": "python",
   "pygments_lexer": "ipython3",
   "version": "3.6.5"
  }
 },
 "nbformat": 4,
 "nbformat_minor": 2
}
