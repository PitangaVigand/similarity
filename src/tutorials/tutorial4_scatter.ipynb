{
 "cells": [
  {
   "cell_type": "code",
   "execution_count": null,
   "source": [
    "import pandas as pd\n",
    "from ivpy import attach,show,montage,histogram,scatter,compose"
   ],
   "outputs": [],
   "metadata": {}
  },
  {
   "cell_type": "code",
   "execution_count": null,
   "source": [
    "DIR = \"/Users/dc987/ivpydatasets/oxfordflower/\"\n",
    "df = pd.read_csv(\"oxfordflower.csv\")"
   ],
   "outputs": [],
   "metadata": {}
  },
  {
   "cell_type": "code",
   "execution_count": null,
   "source": [
    "df.filename = [DIR+item for item in df.filename]"
   ],
   "outputs": [],
   "metadata": {}
  },
  {
   "cell_type": "code",
   "execution_count": null,
   "source": [
    "attach(df,'filename')"
   ],
   "outputs": [],
   "metadata": {}
  },
  {
   "cell_type": "markdown",
   "source": [
    "# scatter( )"
   ],
   "metadata": {}
  },
  {
   "cell_type": "markdown",
   "source": [
    "While histograms have a single data axis, scatterplots have two. Both 'xcol' and 'ycol' now specify proper axes, and there is no binning (at least, not natively) and no 'ascending' arguments. Unlike montages and histograms, image scatterplots confront a real problem of occlusion:"
   ],
   "metadata": {}
  },
  {
   "cell_type": "code",
   "execution_count": null,
   "source": [
    "scatter('hue','brightness')"
   ],
   "outputs": [],
   "metadata": {}
  },
  {
   "cell_type": "markdown",
   "source": [
    "The general trend here is still readable, but many individual images are now fully or partially hidden by others. The function arguments provide several ways of dealing with this. The first, which we've seen already, is to change the thumbnail size:"
   ],
   "metadata": {}
  },
  {
   "cell_type": "code",
   "execution_count": null,
   "source": [
    "scatter('hue','brightness',thumb=8)"
   ],
   "outputs": [],
   "metadata": {}
  },
  {
   "cell_type": "markdown",
   "source": [
    "### side"
   ],
   "metadata": {}
  },
  {
   "cell_type": "markdown",
   "source": [
    "This certainly helps, although now the images are so small, they're difficult to read. Instead of changing the thumbnail size, we can also increase the plot canvas using 'side'. Note that 'side' adjusts both x and y together, and ivpy enforces a square for all scatterplots. "
   ],
   "metadata": {}
  },
  {
   "cell_type": "code",
   "execution_count": null,
   "source": [
    "scatter('hue','brightness',side=980)"
   ],
   "outputs": [],
   "metadata": {}
  },
  {
   "cell_type": "markdown",
   "source": [
    "### xbins and ybins"
   ],
   "metadata": {}
  },
  {
   "cell_type": "markdown",
   "source": [
    "Above we said that scatterplots have no \"native\" binning, but ivpy can bin either or both axes using 'xbins' and 'ybins'. Arguably, what results is no longer a strict scatterplot, but it will be useful in some cases. Note that this doesn't really solve the problem of occlusion, but rather makes it a bit tidier.  "
   ],
   "metadata": {}
  },
  {
   "cell_type": "code",
   "execution_count": null,
   "source": [
    "scatter('hue','brightness',xbins=20,ybins=10)"
   ],
   "outputs": [],
   "metadata": {}
  },
  {
   "cell_type": "markdown",
   "source": [
    "Note that if we set 'xbins' and 'ybins' to the same number, we get something like a grid, and if we set 'thumb' and 'side' so that bins * thumb = side, we get a perfect grid:"
   ],
   "metadata": {}
  },
  {
   "cell_type": "code",
   "execution_count": null,
   "source": [
    "scatter('hue','brightness',xbins=20,ybins=20,thumb=30,side=600)"
   ],
   "outputs": [],
   "metadata": {}
  },
  {
   "cell_type": "markdown",
   "source": [
    "### facetcol"
   ],
   "metadata": {}
  },
  {
   "cell_type": "markdown",
   "source": [
    "As before, domains will stay fixed across facets:"
   ],
   "metadata": {}
  },
  {
   "cell_type": "code",
   "execution_count": null,
   "source": [
    "scatter('hue','brightness',facetcol='flowername')"
   ],
   "outputs": [],
   "metadata": {}
  },
  {
   "cell_type": "markdown",
   "source": [
    "### coordinates"
   ],
   "metadata": {}
  },
  {
   "cell_type": "markdown",
   "source": [
    "Like the histogram, the scatterplot defaults to Cartesian coordinates but has a polar form as well:"
   ],
   "metadata": {}
  },
  {
   "cell_type": "code",
   "execution_count": null,
   "source": [
    "scatter('brightness','hue',facetcol='flowername',coordinates='polar')"
   ],
   "outputs": [],
   "metadata": {}
  }
 ],
 "metadata": {
  "kernelspec": {
   "name": "python3",
   "display_name": "Python 3.8.0 64-bit ('ivpy-8DFwxc5m': pipenv)"
  },
  "language_info": {
   "codemirror_mode": {
    "name": "ipython",
    "version": 3
   },
   "file_extension": ".py",
   "mimetype": "text/x-python",
   "name": "python",
   "nbconvert_exporter": "python",
   "pygments_lexer": "ipython3",
   "version": "3.8.0"
  },
  "interpreter": {
   "hash": "6af95c7f8f5a549e077090ad10afabf256e8805c978fb5d0c0d9b84296ca14ca"
  }
 },
 "nbformat": 4,
 "nbformat_minor": 2
}